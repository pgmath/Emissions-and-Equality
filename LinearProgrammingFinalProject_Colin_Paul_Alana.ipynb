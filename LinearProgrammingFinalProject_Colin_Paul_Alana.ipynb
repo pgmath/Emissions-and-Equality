{
  "nbformat": 4,
  "nbformat_minor": 0,
  "metadata": {
    "colab": {
      "provenance": []
    },
    "kernelspec": {
      "name": "python3",
      "display_name": "Python 3"
    },
    "language_info": {
      "name": "python"
    }
  },
  "cells": [
    {
      "cell_type": "code",
      "source": [
        "# Neccessary statements to run colab from Drive\n",
        "from google.colab import drive\n",
        "drive.mount('/content/drive')"
      ],
      "metadata": {
        "colab": {
          "base_uri": "https://localhost:8080/"
        },
        "id": "Hb_yXGx6sBbH",
        "outputId": "072a8ee3-a35f-4e2b-c961-db17aa0367fa"
      },
      "execution_count": null,
      "outputs": [
        {
          "output_type": "stream",
          "name": "stdout",
          "text": [
            "Drive already mounted at /content/drive; to attempt to forcibly remount, call drive.mount(\"/content/drive\", force_remount=True).\n"
          ]
        }
      ]
    },
    {
      "cell_type": "code",
      "source": [
        "# Neccessary statements\n",
        "!mkdir mywork\n",
        "!mkdir mydata\n",
        "!cp -r /content/drive/MyDrive/FinalProjectLinearProgramming///common_data_indicators_american_community_survey_tracts_2017_2021.csv /content/mydata\n",
        "!cp -r /content/drive/MyDrive/FinalProjectLinearProgramming///coloradoCarshareLocations1.csv /content/mydata"
      ],
      "metadata": {
        "id": "ZLLu4qiIHzED",
        "colab": {
          "base_uri": "https://localhost:8080/"
        },
        "outputId": "a99d8dd2-8a7a-4f95-a34b-79963c85dc85"
      },
      "execution_count": null,
      "outputs": [
        {
          "output_type": "stream",
          "name": "stdout",
          "text": [
            "mkdir: cannot create directory ‘mywork’: File exists\n",
            "mkdir: cannot create directory ‘mydata’: File exists\n"
          ]
        }
      ]
    },
    {
      "cell_type": "code",
      "source": [
        "# install pyomo and gurobipy\n",
        "!pip install pyomo\n",
        "!pip install gurobipy"
      ],
      "metadata": {
        "id": "z2LUKNPS4HBR",
        "colab": {
          "base_uri": "https://localhost:8080/"
        },
        "outputId": "13c7e00a-7212-460f-a1cd-91f5afe20df3"
      },
      "execution_count": null,
      "outputs": [
        {
          "output_type": "stream",
          "name": "stdout",
          "text": [
            "Requirement already satisfied: pyomo in /usr/local/lib/python3.10/dist-packages (6.7.0)\n",
            "Requirement already satisfied: ply in /usr/local/lib/python3.10/dist-packages (from pyomo) (3.11)\n",
            "Requirement already satisfied: gurobipy in /usr/local/lib/python3.10/dist-packages (11.0.0)\n"
          ]
        }
      ]
    },
    {
      "cell_type": "code",
      "execution_count": null,
      "metadata": {
        "id": "74w5lq87AVeq"
      },
      "outputs": [],
      "source": [
        "# Import neccessary packages\n",
        "import geopandas as gpd\n",
        "import pandas as pd\n",
        "from scipy.optimize import linprog\n",
        "import pyomo\n",
        "import numpy as np\n",
        "import gurobipy\n",
        "from numpy.core.multiarray import empty"
      ]
    },
    {
      "cell_type": "code",
      "source": [
        "# imort needed csv's\n",
        "census_tract = pd.read_csv(\"./mydata/common_data_indicators_american_community_survey_tracts_2017_2021.csv\")\n",
        "CCS = pd.read_csv(\"./mydata/coloradoCarshareLocations1.csv\", encoding='latin1')\n",
        "\n",
        "# Create dictionary\n",
        "car_count = {}\n",
        "\n",
        "# Create a column of 0's\n",
        "census_tract['carCount'] = np.zeros(176)\n",
        "\n",
        "# Fill car_count dictionary with car counts\n",
        "for i in np.unique(CCS['TRACT_NAME'].to_numpy()):\n",
        "  index = CCS['TRACT_NAME'] == i\n",
        "\n",
        "  num = CCS['car type'][index].shape[0]\n",
        "\n",
        "  car_count[i] = num\n",
        "\n",
        "car_count"
      ],
      "metadata": {
        "id": "Ydp_MY83Geeq",
        "colab": {
          "base_uri": "https://localhost:8080/"
        },
        "outputId": "ad641d78-6dbf-4b44-d068-181ee5347f49"
      },
      "execution_count": null,
      "outputs": [
        {
          "output_type": "execute_result",
          "data": {
            "text/plain": [
              "{'Census Tract 11.02': 1,\n",
              " 'Census Tract 16.03': 1,\n",
              " 'Census Tract 17.04': 5,\n",
              " 'Census Tract 17.05': 2,\n",
              " 'Census Tract 17.06': 3,\n",
              " 'Census Tract 19.01': 2,\n",
              " 'Census Tract 21.02': 3,\n",
              " 'Census Tract 24.04': 1,\n",
              " 'Census Tract 24.05': 1,\n",
              " 'Census Tract 26.03': 2,\n",
              " 'Census Tract 27.05': 1,\n",
              " 'Census Tract 27.07': 1,\n",
              " 'Census Tract 27.09': 2,\n",
              " 'Census Tract 29.01': 1,\n",
              " 'Census Tract 31.02': 1,\n",
              " 'Census Tract 32.02': 1}"
            ]
          },
          "metadata": {},
          "execution_count": 47
        }
      ]
    },
    {
      "cell_type": "code",
      "source": [
        "# Create a data frame from the dictionary\n",
        "car_count_df = pd.DataFrame.from_dict(car_count, orient='index').reset_index()\n",
        "car_count_df.columns = ['TRACT_NAME', 'count']\n",
        "\n",
        "# Create a merged data frame\n",
        "merged_df = pd.merge(census_tract, car_count_df, on='TRACT_NAME', how='left')\n",
        "\n",
        "# fill the census_tract carCount column with merged data frame\n",
        "census_tract['carCount'] = merged_df['count'].fillna(0)"
      ],
      "metadata": {
        "id": "GgU-uEjAGJnn"
      },
      "execution_count": null,
      "outputs": []
    },
    {
      "cell_type": "code",
      "source": [
        "# Create a dictionary to hold tracts with cars already in it\n",
        "T = {}\n",
        "\n",
        "# Fill dictionary with CarCount\n",
        "for i, id in enumerate(census_tract['TRACT_NAME']):\n",
        "\n",
        "  T[id] = census_tract['carCount'].iloc[i]\n",
        "\n",
        "# Create a dictionary to hold population of each tract\n",
        "P = {}\n",
        "\n",
        "# Fill dictionary with PopulationDensity\n",
        "for i, id in enumerate(census_tract['TRACT_NAME']):\n",
        "\n",
        "  P[id] = census_tract['Nmbr_PopulationDensity'].iloc[i]\n",
        "\n",
        "\n",
        "# Create a dictionary to hold weights - can be changed below\n",
        "w = {}\n",
        "\n",
        "# Fill dictionary with 1's (Can be changed later to add different weights)\n",
        "for id in census_tract['TRACT_NAME']:\n",
        "\n",
        "  w[id] = 1\n",
        "\n",
        "\n",
        "# Make ratios of density to carCount to get the max density\n",
        "ratios = {}\n",
        "\n",
        "for id, car_count , pop in zip(census_tract['TRACT_NAME'], census_tract['carCount'].to_numpy(), census_tract['Nmbr_PopulationDensity'].to_numpy()):\n",
        "\n",
        "      ratios[id] = car_count / pop\n",
        "\n",
        "ratios"
      ],
      "metadata": {
        "colab": {
          "base_uri": "https://localhost:8080/"
        },
        "id": "bkmBUlgIgmG0",
        "outputId": "c637a08c-f0c6-416d-b83a-f3f9fcc52368"
      },
      "execution_count": null,
      "outputs": [
        {
          "output_type": "execute_result",
          "data": {
            "text/plain": [
              "{'Census Tract 1.02': 0.0,\n",
              " 'Census Tract 10': 0.0,\n",
              " 'Census Tract 11.01': 0.0,\n",
              " 'Census Tract 11.02': 9.993012635739776e-05,\n",
              " 'Census Tract 119.02': 0.0,\n",
              " 'Census Tract 119.03': 0.0,\n",
              " 'Census Tract 120.01': 0.0,\n",
              " 'Census Tract 120.10': 0.0,\n",
              " 'Census Tract 120.15': 0.0,\n",
              " 'Census Tract 120.16': 0.0,\n",
              " 'Census Tract 13.01': 0.0,\n",
              " 'Census Tract 13.02': 0.0,\n",
              " 'Census Tract 14.01': 0.0,\n",
              " 'Census Tract 14.02': 0.0,\n",
              " 'Census Tract 14.03': 0.0,\n",
              " 'Census Tract 15': 0.0,\n",
              " 'Census Tract 153': 0.0,\n",
              " 'Census Tract 154': 0.0,\n",
              " 'Census Tract 155': 0.0,\n",
              " 'Census Tract 156': 0.0,\n",
              " 'Census Tract 157': 0.0,\n",
              " 'Census Tract 158': 0.0,\n",
              " 'Census Tract 16.01': 0.0,\n",
              " 'Census Tract 16.02': 0.0,\n",
              " 'Census Tract 16.03': 6.302491402582403e-05,\n",
              " 'Census Tract 17.03': 0.0,\n",
              " 'Census Tract 17.04': 0.0003939593242938573,\n",
              " 'Census Tract 17.05': 9.306465681690038e-05,\n",
              " 'Census Tract 17.06': 0.0002524912824586286,\n",
              " 'Census Tract 17.07': 0.0,\n",
              " 'Census Tract 18': 0.0,\n",
              " 'Census Tract 19.01': 0.0005349372293515011,\n",
              " 'Census Tract 2.01': 0.0,\n",
              " 'Census Tract 2.02': 0.0,\n",
              " 'Census Tract 20': 0.0,\n",
              " 'Census Tract 21.01': 0.0,\n",
              " 'Census Tract 21.02': 0.001138084158369045,\n",
              " 'Census Tract 23': 0.0,\n",
              " 'Census Tract 24.02': 0.0,\n",
              " 'Census Tract 24.04': 0.0001062990391669393,\n",
              " 'Census Tract 24.05': 5.6421128194554826e-05,\n",
              " 'Census Tract 26.02': 0.0,\n",
              " 'Census Tract 26.03': 9.265730848915022e-05,\n",
              " 'Census Tract 26.04': 0.0,\n",
              " 'Census Tract 27.04': 0.0,\n",
              " 'Census Tract 27.05': 3.237559458758822e-05,\n",
              " 'Census Tract 27.06': 0.0,\n",
              " 'Census Tract 27.07': 3.6661265058197145e-05,\n",
              " 'Census Tract 27.08': 0.0,\n",
              " 'Census Tract 27.09': 6.3418724770099e-05,\n",
              " 'Census Tract 28.01': 0.0,\n",
              " 'Census Tract 28.02': 0.0,\n",
              " 'Census Tract 28.04': 0.0,\n",
              " 'Census Tract 28.05': 0.0,\n",
              " 'Census Tract 29.01': 0.00011077913419613416,\n",
              " 'Census Tract 29.02': 0.0,\n",
              " 'Census Tract 3.01': 0.0,\n",
              " 'Census Tract 3.02': 0.0,\n",
              " 'Census Tract 3.03': 0.0,\n",
              " 'Census Tract 30.02': 0.0,\n",
              " 'Census Tract 30.03': 0.0,\n",
              " 'Census Tract 30.04': 0.0,\n",
              " 'Census Tract 30.05': 0.0,\n",
              " 'Census Tract 30.06': 0.0,\n",
              " 'Census Tract 31.01': 0.0,\n",
              " 'Census Tract 31.02': 8.93378796308223e-05,\n",
              " 'Census Tract 32.02': 5.701756992768197e-05,\n",
              " 'Census Tract 32.03': 0.0,\n",
              " 'Census Tract 32.04': 0.0,\n",
              " 'Census Tract 32.05': 0.0,\n",
              " 'Census Tract 33': 0.0,\n",
              " 'Census Tract 34.01': 0.0,\n",
              " 'Census Tract 34.02': 0.0,\n",
              " 'Census Tract 35.01': 0.0,\n",
              " 'Census Tract 35.02': 0.0,\n",
              " 'Census Tract 36.01': 0.0,\n",
              " 'Census Tract 36.02': 0.0,\n",
              " 'Census Tract 36.03': 0.0,\n",
              " 'Census Tract 37.01': 0.0,\n",
              " 'Census Tract 37.02': 0.0,\n",
              " 'Census Tract 37.03': 0.0,\n",
              " 'Census Tract 38.01': 0.0,\n",
              " 'Census Tract 38.02': 0.0,\n",
              " 'Census Tract 39.01': 0.0,\n",
              " 'Census Tract 39.02': 0.0,\n",
              " 'Census Tract 4.01': 0.0,\n",
              " 'Census Tract 4.03': 0.0,\n",
              " 'Census Tract 4.04': 0.0,\n",
              " 'Census Tract 40.02': 0.0,\n",
              " 'Census Tract 40.03': 0.0,\n",
              " 'Census Tract 40.04': 0.0,\n",
              " 'Census Tract 40.05': 0.0,\n",
              " 'Census Tract 40.06': 0.0,\n",
              " 'Census Tract 41.01': 0.0,\n",
              " 'Census Tract 41.02': 0.0,\n",
              " 'Census Tract 41.03': 0.0,\n",
              " 'Census Tract 41.04': 0.0,\n",
              " 'Census Tract 41.08': 0.0,\n",
              " 'Census Tract 41.09': 0.0,\n",
              " 'Census Tract 41.10': 0.0,\n",
              " 'Census Tract 41.11': 0.0,\n",
              " 'Census Tract 41.12': 0.0,\n",
              " 'Census Tract 41.13': 0.0,\n",
              " 'Census Tract 42.01': 0.0,\n",
              " 'Census Tract 42.02': 0.0,\n",
              " 'Census Tract 43.02': 0.0,\n",
              " 'Census Tract 43.03': 0.0,\n",
              " 'Census Tract 43.06': 0.0,\n",
              " 'Census Tract 43.07': 0.0,\n",
              " 'Census Tract 43.08': 0.0,\n",
              " 'Census Tract 43.09': 0.0,\n",
              " 'Census Tract 43.10': 0.0,\n",
              " 'Census Tract 44.03': 0.0,\n",
              " 'Census Tract 44.04': 0.0,\n",
              " 'Census Tract 44.06': 0.0,\n",
              " 'Census Tract 44.07': 0.0,\n",
              " 'Census Tract 45.03': 0.0,\n",
              " 'Census Tract 45.04': 0.0,\n",
              " 'Census Tract 45.05': 0.0,\n",
              " 'Census Tract 45.06': 0.0,\n",
              " 'Census Tract 46.01': 0.0,\n",
              " 'Census Tract 46.02': 0.0,\n",
              " 'Census Tract 46.03': 0.0,\n",
              " 'Census Tract 47': 0.0,\n",
              " 'Census Tract 48.01': 0.0,\n",
              " 'Census Tract 5.01': 0.0,\n",
              " 'Census Tract 5.03': 0.0,\n",
              " 'Census Tract 5.04': 0.0,\n",
              " 'Census Tract 50.01': 0.0,\n",
              " 'Census Tract 50.03': 0.0,\n",
              " 'Census Tract 50.04': 0.0,\n",
              " 'Census Tract 51.02': 0.0,\n",
              " 'Census Tract 51.04': 0.0,\n",
              " 'Census Tract 52': 0.0,\n",
              " 'Census Tract 53': 0.0,\n",
              " 'Census Tract 55.02': 0.0,\n",
              " 'Census Tract 55.03': 0.0,\n",
              " 'Census Tract 6': 0.0,\n",
              " 'Census Tract 67.01': 0.0,\n",
              " 'Census Tract 68.04': 0.0,\n",
              " 'Census Tract 68.10': 0.0,\n",
              " 'Census Tract 68.12': 0.0,\n",
              " 'Census Tract 68.13': 0.0,\n",
              " 'Census Tract 68.14': 0.0,\n",
              " 'Census Tract 68.15': 0.0,\n",
              " 'Census Tract 68.16': 0.0,\n",
              " 'Census Tract 68.17': 0.0,\n",
              " 'Census Tract 68.18': 0.0,\n",
              " 'Census Tract 69.02': 0.0,\n",
              " 'Census Tract 69.03': 0.0,\n",
              " 'Census Tract 7.03': 0.0,\n",
              " 'Census Tract 7.04': 0.0,\n",
              " 'Census Tract 7.05': 0.0,\n",
              " 'Census Tract 7.06': 0.0,\n",
              " 'Census Tract 70.06': 0.0,\n",
              " 'Census Tract 70.13': 0.0,\n",
              " 'Census Tract 70.37': 0.0,\n",
              " 'Census Tract 70.88': 0.0,\n",
              " 'Census Tract 70.90': 0.0,\n",
              " 'Census Tract 70.91': 0.0,\n",
              " 'Census Tract 8': 0.0,\n",
              " 'Census Tract 83.04': 0.0,\n",
              " 'Census Tract 83.05': 0.0,\n",
              " 'Census Tract 83.06': 0.0,\n",
              " 'Census Tract 83.12': 0.0,\n",
              " 'Census Tract 83.86': 0.0,\n",
              " 'Census Tract 83.87': 0.0,\n",
              " 'Census Tract 83.88': 0.0,\n",
              " 'Census Tract 83.89': 0.0,\n",
              " 'Census Tract 83.90': 0.0,\n",
              " 'Census Tract 83.91': 0.0,\n",
              " 'Census Tract 9.02': 0.0,\n",
              " 'Census Tract 9.03': 0.0,\n",
              " 'Census Tract 9.04': 0.0,\n",
              " 'Census Tract 9.05': 0.0,\n",
              " 'Census Tract 9802': 0.0}"
            ]
          },
          "metadata": {},
          "execution_count": 107
        }
      ]
    },
    {
      "cell_type": "code",
      "source": [
        "# Create a list\n",
        "numbers = []\n",
        "\n",
        "# Fill list to get the max of rations\n",
        "for key in list(ratios):\n",
        "  numbers.append(ratios[key])\n",
        "\n",
        "M = max(numbers)\n",
        "\n",
        "# Create a hard coded M, can be changed with\n",
        "M"
      ],
      "metadata": {
        "id": "X408hGxkHqtz",
        "colab": {
          "base_uri": "https://localhost:8080/"
        },
        "outputId": "bf446c35-3625-44d3-f15a-f2f2f12cda21"
      },
      "execution_count": null,
      "outputs": [
        {
          "output_type": "execute_result",
          "data": {
            "text/plain": [
              "0.001138084158369045"
            ]
          },
          "metadata": {},
          "execution_count": 108
        }
      ]
    },
    {
      "cell_type": "code",
      "source": [
        "# Create AMPL shell\n",
        "from IPython.terminal.interactiveshell import default\n",
        "# Start pyomo environment\n",
        "from pyomo.environ import *\n",
        "\n",
        "# Create a model\n",
        "model = ConcreteModel()\n",
        "\n",
        "# ser R\n",
        "model.R = Set(initialize=census_tract['TRACT_NAME'])\n",
        "\n",
        "\n",
        "# Parameters\n",
        "model.C = Param(initialize = 27)\n",
        "model.m = Param(initialize = M)\n",
        "model.T = Param(model.R, initialize = T)\n",
        "model.P = Param(model.R,initialize = P)\n",
        "model.w = Param(model.R, initialize = w )\n",
        "\n",
        "# Variables\n",
        "model.x = Var(model.R, within=NonNegativeIntegers)\n",
        "\n",
        "# Check sizes of variables to make sure are all the same\n",
        "print(\"Size of P:\", len(model.P))\n",
        "print(\"Size of T:\", len(model.T))\n",
        "print(\"Size of x:\", len(model.x))\n",
        "print(\"Size of R:\", len(model.R))\n",
        "print(w)"
      ],
      "metadata": {
        "colab": {
          "base_uri": "https://localhost:8080/"
        },
        "id": "3p1FJ-GAYz8i",
        "outputId": "3c302350-34d3-405c-bf45-5108de5050f2"
      },
      "execution_count": null,
      "outputs": [
        {
          "output_type": "stream",
          "name": "stdout",
          "text": [
            "Size of P: 176\n",
            "Size of T: 176\n",
            "Size of x: 176\n",
            "Size of R: 176\n",
            "{'Census Tract 1.02': 26.47584973, 'Census Tract 10': 45.93363696, 'Census Tract 11.01': 34.15977961, 'Census Tract 11.02': 29.25551814, 'Census Tract 119.02': 39.07407407, 'Census Tract 119.03': 22.80513919, 'Census Tract 120.01': 26.62662663, 'Census Tract 120.10': 22.98897509, 'Census Tract 120.15': 36.27218935, 'Census Tract 120.16': 31.04181432, 'Census Tract 13.01': 46.94214876, 'Census Tract 13.02': 38.4083045, 'Census Tract 14.01': 39.25959781, 'Census Tract 14.02': 42.3028786, 'Census Tract 14.03': 43.19809069, 'Census Tract 15': 38.56304985, 'Census Tract 153': 46.55647383, 'Census Tract 154': 31.41210375, 'Census Tract 155': 50.4743833, 'Census Tract 156': 19.33998465, 'Census Tract 157': 27.82118056, 'Census Tract 158': 47.98154556, 'Census Tract 16.01': 21.45922747, 'Census Tract 16.02': 23.40597256, 'Census Tract 16.03': 49.51395422, 'Census Tract 17.03': 36.15, 'Census Tract 17.04': 39.68816442, 'Census Tract 17.05': 38.69644485, 'Census Tract 17.06': 32.71208226, 'Census Tract 17.07': 40.0, 'Census Tract 18': 38.55024712, 'Census Tract 19.01': 38.03921569, 'Census Tract 2.01': 31.55048077, 'Census Tract 2.02': 31.63926258, 'Census Tract 20': 37.92, 'Census Tract 21.01': 33.84030418, 'Census Tract 21.02': 26.61512976, 'Census Tract 23': 19.44055944, 'Census Tract 24.02': 33.49693252, 'Census Tract 24.04': 33.04597701, 'Census Tract 24.05': 28.59510982, 'Census Tract 26.02': 31.97316937, 'Census Tract 26.03': 25.44483986, 'Census Tract 26.04': 54.70262794, 'Census Tract 27.04': 49.94089835, 'Census Tract 27.05': 42.94840295, 'Census Tract 27.06': 31.93350831, 'Census Tract 27.07': 29.55710956, 'Census Tract 27.08': 37.57763975, 'Census Tract 27.09': 43.15259922, 'Census Tract 28.01': 35.0, 'Census Tract 28.02': 33.63212621, 'Census Tract 28.04': 32.42271747, 'Census Tract 28.05': 28.60906217, 'Census Tract 29.01': 36.16048756, 'Census Tract 29.02': 26.74661105, 'Census Tract 3.01': 24.03159082, 'Census Tract 3.02': 24.72945892, 'Census Tract 3.03': 24.7582205, 'Census Tract 30.02': 32.42857143, 'Census Tract 30.03': 41.90832554, 'Census Tract 30.04': 28.05500982, 'Census Tract 30.05': 28.04698972, 'Census Tract 30.06': 18.80448319, 'Census Tract 31.01': 25.98944591, 'Census Tract 31.02': 36.58204896, 'Census Tract 32.02': 41.55188246, 'Census Tract 32.03': 18.62170088, 'Census Tract 32.04': 36.05115907, 'Census Tract 32.05': 28.48341232, 'Census Tract 33': 23.57388316, 'Census Tract 34.01': 19.71514243, 'Census Tract 34.02': 23.16874661, 'Census Tract 35.01': 41.54929577, 'Census Tract 35.02': 36.40824338, 'Census Tract 36.01': 37.13278496, 'Census Tract 36.02': 36.08367228, 'Census Tract 36.03': 37.41191544, 'Census Tract 37.01': 27.85076195, 'Census Tract 37.02': 36.9595537, 'Census Tract 37.03': 33.35253456, 'Census Tract 38.01': 34.97191011, 'Census Tract 38.02': 25.35641548, 'Census Tract 39.01': 27.73958755, 'Census Tract 39.02': 20.07042254, 'Census Tract 4.01': 27.51552795, 'Census Tract 4.03': 22.02835333, 'Census Tract 4.04': 35.67134269, 'Census Tract 40.02': 23.0, 'Census Tract 40.03': 22.22746579, 'Census Tract 40.04': 23.82588774, 'Census Tract 40.05': 33.37216075, 'Census Tract 40.06': 40.0390625, 'Census Tract 41.01': 42.18590398, 'Census Tract 41.02': 36.48186174, 'Census Tract 41.03': 20.66081138, 'Census Tract 41.04': 23.07319438, 'Census Tract 41.08': 19.09762738, 'Census Tract 41.09': 24.6835443, 'Census Tract 41.10': 22.60536398, 'Census Tract 41.11': 23.59307359, 'Census Tract 41.12': 39.45284377, 'Census Tract 41.13': 12.71929825, 'Census Tract 42.01': 14.90872211, 'Census Tract 42.02': 18.7804878, 'Census Tract 43.02': 27.09196355, 'Census Tract 43.03': 14.83253589, 'Census Tract 43.06': 29.83425414, 'Census Tract 43.07': 41.65275459, 'Census Tract 43.08': 49.79442668, 'Census Tract 43.09': 34.89795918, 'Census Tract 43.10': 24.73498233, 'Census Tract 44.03': 38.29051383, 'Census Tract 44.04': 43.96234138, 'Census Tract 44.06': 39.42257218, 'Census Tract 44.07': 22.61386139, 'Census Tract 45.03': 49.8654105, 'Census Tract 45.04': 43.80804954, 'Census Tract 45.05': 52.82885431, 'Census Tract 45.06': 47.53649635, 'Census Tract 46.01': 23.60604482, 'Census Tract 46.02': 45.13466551, 'Census Tract 46.03': 43.48492591, 'Census Tract 47': 36.79763414, 'Census Tract 48.01': 19.48881789, 'Census Tract 5.01': 22.55225523, 'Census Tract 5.03': 30.47544817, 'Census Tract 5.04': 36.73469388, 'Census Tract 50.01': 27.07910751, 'Census Tract 50.03': 56.54496883, 'Census Tract 50.04': 46.36734694, 'Census Tract 51.02': 25.66425121, 'Census Tract 51.04': 45.10028653, 'Census Tract 52': 15.54441261, 'Census Tract 53': 47.52018454, 'Census Tract 55.02': 36.83241252, 'Census Tract 55.03': 22.51007484, 'Census Tract 6': 27.46228926, 'Census Tract 67.01': 36.04429171, 'Census Tract 68.04': 26.35740643, 'Census Tract 68.10': 46.7517837, 'Census Tract 68.12': 27.29306488, 'Census Tract 68.13': 50.02241147, 'Census Tract 68.14': 37.18220339, 'Census Tract 68.15': 38.52065322, 'Census Tract 68.16': 39.3194707, 'Census Tract 68.17': 15.44715447, 'Census Tract 68.18': 35.56503198, 'Census Tract 69.02': 39.47368421, 'Census Tract 69.03': 49.7665733, 'Census Tract 7.03': 42.71922767, 'Census Tract 7.04': 28.35341365, 'Census Tract 7.05': 23.51900973, 'Census Tract 7.06': 25.0672043, 'Census Tract 70.06': 48.57968223, 'Census Tract 70.13': 23.75832053, 'Census Tract 70.37': 41.77664975, 'Census Tract 70.88': 53.54361371, 'Census Tract 70.90': 53.83848455, 'Census Tract 70.91': 50.31610264, 'Census Tract 8': 39.16449086, 'Census Tract 83.04': 33.90688259, 'Census Tract 83.05': 37.34622144, 'Census Tract 83.06': 41.80206795, 'Census Tract 83.12': 48.20732658, 'Census Tract 83.86': 32.88854003, 'Census Tract 83.87': 23.32761578, 'Census Tract 83.88': 34.1859961, 'Census Tract 83.89': 44.71488178, 'Census Tract 83.90': 35.53984576, 'Census Tract 83.91': 39.48911223, 'Census Tract 9.02': 40.30848329, 'Census Tract 9.03': 50.41407867, 'Census Tract 9.04': 58.35515977, 'Census Tract 9.05': 32.3880597, 'Census Tract 9802': 33.33333333}\n"
          ]
        }
      ]
    },
    {
      "cell_type": "code",
      "source": [
        "# Objective function\n",
        "max_cars_added = 5\n",
        "\n",
        "model.obj = Objective(expr=sum(model.w[i]*model.P[i] * (model.T[i] + model.x[i]) for i in census_tract['TRACT_NAME'].to_list()), sense=maximize)\n",
        "\n",
        "# Constraints\n",
        "model.constraints = ConstraintList()\n",
        "for i in model.R:\n",
        "    model.constraints.add(model.m * (model.T[i] + model.x[i]) <= model.P[i])\n",
        "\n",
        "model.constraints.add(sum(model.x[i] for i in model.R) <= model.C)\n",
        "for i in model.R:\n",
        "  model.constraints.add(model.x[i] <= max_cars_added)\n",
        "\n",
        "\n",
        "# Solve the model\n",
        "solver = SolverFactory('gurobi')\n",
        "solver.solve(model)\n",
        "\n",
        "# Display the results\n",
        "print(\"Objective Value:\", model.obj())\n",
        "print(\"Number of cars added to each census tract:\")\n",
        "for i in model.R:\n",
        "  print(f\"Census Tract {i}: {model.x[i]()}\")"
      ],
      "metadata": {
        "id": "I9ofJpeA9R2e",
        "colab": {
          "base_uri": "https://localhost:8080/"
        },
        "outputId": "5b763b92-68ec-4e9e-c7e8-73dcd1363c60"
      },
      "execution_count": null,
      "outputs": [
        {
          "output_type": "stream",
          "name": "stdout",
          "text": [
            "Objective Value: 47723705.59691025\n",
            "Number of cars added to each census tract:\n",
            "Census Tract Census Tract 1.02: 0.0\n",
            "Census Tract Census Tract 10: 0.0\n",
            "Census Tract Census Tract 11.01: 0.0\n",
            "Census Tract Census Tract 11.02: 0.0\n",
            "Census Tract Census Tract 119.02: 0.0\n",
            "Census Tract Census Tract 119.03: 0.0\n",
            "Census Tract Census Tract 120.01: 0.0\n",
            "Census Tract Census Tract 120.10: 0.0\n",
            "Census Tract Census Tract 120.15: 0.0\n",
            "Census Tract Census Tract 120.16: 0.0\n",
            "Census Tract Census Tract 13.01: 0.0\n",
            "Census Tract Census Tract 13.02: 0.0\n",
            "Census Tract Census Tract 14.01: 0.0\n",
            "Census Tract Census Tract 14.02: 0.0\n",
            "Census Tract Census Tract 14.03: 0.0\n",
            "Census Tract Census Tract 15: 0.0\n",
            "Census Tract Census Tract 153: 0.0\n",
            "Census Tract Census Tract 154: 0.0\n",
            "Census Tract Census Tract 155: 0.0\n",
            "Census Tract Census Tract 156: 0.0\n",
            "Census Tract Census Tract 157: 0.0\n",
            "Census Tract Census Tract 158: 0.0\n",
            "Census Tract Census Tract 16.01: 0.0\n",
            "Census Tract Census Tract 16.02: 0.0\n",
            "Census Tract Census Tract 16.03: 0.0\n",
            "Census Tract Census Tract 17.03: 5.0\n",
            "Census Tract Census Tract 17.04: 0.0\n",
            "Census Tract Census Tract 17.05: 0.0\n",
            "Census Tract Census Tract 17.06: 0.0\n",
            "Census Tract Census Tract 17.07: 0.0\n",
            "Census Tract Census Tract 18: 0.0\n",
            "Census Tract Census Tract 19.01: 0.0\n",
            "Census Tract Census Tract 2.01: 0.0\n",
            "Census Tract Census Tract 2.02: 0.0\n",
            "Census Tract Census Tract 20: 0.0\n",
            "Census Tract Census Tract 21.01: 0.0\n",
            "Census Tract Census Tract 21.02: 0.0\n",
            "Census Tract Census Tract 23: 0.0\n",
            "Census Tract Census Tract 24.02: 0.0\n",
            "Census Tract Census Tract 24.04: 0.0\n",
            "Census Tract Census Tract 24.05: 0.0\n",
            "Census Tract Census Tract 26.02: 0.0\n",
            "Census Tract Census Tract 26.03: 0.0\n",
            "Census Tract Census Tract 26.04: 5.0\n",
            "Census Tract Census Tract 27.04: 0.0\n",
            "Census Tract Census Tract 27.05: 5.0\n",
            "Census Tract Census Tract 27.06: 0.0\n",
            "Census Tract Census Tract 27.07: 0.0\n",
            "Census Tract Census Tract 27.08: 0.0\n",
            "Census Tract Census Tract 27.09: 5.0\n",
            "Census Tract Census Tract 28.01: 0.0\n",
            "Census Tract Census Tract 28.02: 0.0\n",
            "Census Tract Census Tract 28.04: 0.0\n",
            "Census Tract Census Tract 28.05: 0.0\n",
            "Census Tract Census Tract 29.01: 0.0\n",
            "Census Tract Census Tract 29.02: 0.0\n",
            "Census Tract Census Tract 3.01: 0.0\n",
            "Census Tract Census Tract 3.02: 0.0\n",
            "Census Tract Census Tract 3.03: 0.0\n",
            "Census Tract Census Tract 30.02: 0.0\n",
            "Census Tract Census Tract 30.03: 0.0\n",
            "Census Tract Census Tract 30.04: 0.0\n",
            "Census Tract Census Tract 30.05: 0.0\n",
            "Census Tract Census Tract 30.06: 0.0\n",
            "Census Tract Census Tract 31.01: 0.0\n",
            "Census Tract Census Tract 31.02: 0.0\n",
            "Census Tract Census Tract 32.02: 0.0\n",
            "Census Tract Census Tract 32.03: 0.0\n",
            "Census Tract Census Tract 32.04: 2.0\n",
            "Census Tract Census Tract 32.05: 0.0\n",
            "Census Tract Census Tract 33: 0.0\n",
            "Census Tract Census Tract 34.01: 0.0\n",
            "Census Tract Census Tract 34.02: 0.0\n",
            "Census Tract Census Tract 35.01: 0.0\n",
            "Census Tract Census Tract 35.02: 0.0\n",
            "Census Tract Census Tract 36.01: 0.0\n",
            "Census Tract Census Tract 36.02: 0.0\n",
            "Census Tract Census Tract 36.03: 0.0\n",
            "Census Tract Census Tract 37.01: 0.0\n",
            "Census Tract Census Tract 37.02: 0.0\n",
            "Census Tract Census Tract 37.03: 0.0\n",
            "Census Tract Census Tract 38.01: 0.0\n",
            "Census Tract Census Tract 38.02: 0.0\n",
            "Census Tract Census Tract 39.01: 0.0\n",
            "Census Tract Census Tract 39.02: 0.0\n",
            "Census Tract Census Tract 4.01: 0.0\n",
            "Census Tract Census Tract 4.03: 0.0\n",
            "Census Tract Census Tract 4.04: 0.0\n",
            "Census Tract Census Tract 40.02: 0.0\n",
            "Census Tract Census Tract 40.03: 0.0\n",
            "Census Tract Census Tract 40.04: 0.0\n",
            "Census Tract Census Tract 40.05: 0.0\n",
            "Census Tract Census Tract 40.06: 0.0\n",
            "Census Tract Census Tract 41.01: 0.0\n",
            "Census Tract Census Tract 41.02: 0.0\n",
            "Census Tract Census Tract 41.03: 0.0\n",
            "Census Tract Census Tract 41.04: 0.0\n",
            "Census Tract Census Tract 41.08: 0.0\n",
            "Census Tract Census Tract 41.09: 0.0\n",
            "Census Tract Census Tract 41.10: 0.0\n",
            "Census Tract Census Tract 41.11: 0.0\n",
            "Census Tract Census Tract 41.12: 0.0\n",
            "Census Tract Census Tract 41.13: 0.0\n",
            "Census Tract Census Tract 42.01: 0.0\n",
            "Census Tract Census Tract 42.02: 0.0\n",
            "Census Tract Census Tract 43.02: 0.0\n",
            "Census Tract Census Tract 43.03: 0.0\n",
            "Census Tract Census Tract 43.06: 0.0\n",
            "Census Tract Census Tract 43.07: 0.0\n",
            "Census Tract Census Tract 43.08: 0.0\n",
            "Census Tract Census Tract 43.09: 0.0\n",
            "Census Tract Census Tract 43.10: 0.0\n",
            "Census Tract Census Tract 44.03: 0.0\n",
            "Census Tract Census Tract 44.04: 0.0\n",
            "Census Tract Census Tract 44.06: 0.0\n",
            "Census Tract Census Tract 44.07: 0.0\n",
            "Census Tract Census Tract 45.03: 0.0\n",
            "Census Tract Census Tract 45.04: 0.0\n",
            "Census Tract Census Tract 45.05: 0.0\n",
            "Census Tract Census Tract 45.06: 0.0\n",
            "Census Tract Census Tract 46.01: 0.0\n",
            "Census Tract Census Tract 46.02: 0.0\n",
            "Census Tract Census Tract 46.03: 0.0\n",
            "Census Tract Census Tract 47: 0.0\n",
            "Census Tract Census Tract 48.01: 0.0\n",
            "Census Tract Census Tract 5.01: 0.0\n",
            "Census Tract Census Tract 5.03: 0.0\n",
            "Census Tract Census Tract 5.04: 0.0\n",
            "Census Tract Census Tract 50.01: 0.0\n",
            "Census Tract Census Tract 50.03: 0.0\n",
            "Census Tract Census Tract 50.04: 0.0\n",
            "Census Tract Census Tract 51.02: 0.0\n",
            "Census Tract Census Tract 51.04: 0.0\n",
            "Census Tract Census Tract 52: 0.0\n",
            "Census Tract Census Tract 53: 0.0\n",
            "Census Tract Census Tract 55.02: 0.0\n",
            "Census Tract Census Tract 55.03: 0.0\n",
            "Census Tract Census Tract 6: 0.0\n",
            "Census Tract Census Tract 67.01: 0.0\n",
            "Census Tract Census Tract 68.04: 0.0\n",
            "Census Tract Census Tract 68.10: 0.0\n",
            "Census Tract Census Tract 68.12: 0.0\n",
            "Census Tract Census Tract 68.13: 0.0\n",
            "Census Tract Census Tract 68.14: 0.0\n",
            "Census Tract Census Tract 68.15: 0.0\n",
            "Census Tract Census Tract 68.16: 0.0\n",
            "Census Tract Census Tract 68.17: 0.0\n",
            "Census Tract Census Tract 68.18: 0.0\n",
            "Census Tract Census Tract 69.02: 0.0\n",
            "Census Tract Census Tract 69.03: 0.0\n",
            "Census Tract Census Tract 7.03: 0.0\n",
            "Census Tract Census Tract 7.04: 0.0\n",
            "Census Tract Census Tract 7.05: 0.0\n",
            "Census Tract Census Tract 7.06: 0.0\n",
            "Census Tract Census Tract 70.06: 0.0\n",
            "Census Tract Census Tract 70.13: 0.0\n",
            "Census Tract Census Tract 70.37: 0.0\n",
            "Census Tract Census Tract 70.88: 0.0\n",
            "Census Tract Census Tract 70.90: 5.0\n",
            "Census Tract Census Tract 70.91: 0.0\n",
            "Census Tract Census Tract 8: 0.0\n",
            "Census Tract Census Tract 83.04: 0.0\n",
            "Census Tract Census Tract 83.05: 0.0\n",
            "Census Tract Census Tract 83.06: 0.0\n",
            "Census Tract Census Tract 83.12: 0.0\n",
            "Census Tract Census Tract 83.86: 0.0\n",
            "Census Tract Census Tract 83.87: 0.0\n",
            "Census Tract Census Tract 83.88: 0.0\n",
            "Census Tract Census Tract 83.89: 0.0\n",
            "Census Tract Census Tract 83.90: 0.0\n",
            "Census Tract Census Tract 83.91: 0.0\n",
            "Census Tract Census Tract 9.02: 0.0\n",
            "Census Tract Census Tract 9.03: 0.0\n",
            "Census Tract Census Tract 9.04: 0.0\n",
            "Census Tract Census Tract 9.05: 0.0\n",
            "Census Tract Census Tract 9802: 0.0\n"
          ]
        }
      ]
    },
    {
      "cell_type": "code",
      "source": [
        "# Create a dictionary to hold tract's with added cars\n",
        "tract_added = {}\n",
        "\n",
        "# Fill dictionary\n",
        "for i in model.R:\n",
        "\n",
        "  if model.x[i]() != 0:\n",
        "\n",
        "    tract_added[i] = model.x[i]()\n",
        "\n",
        "# Display results\n",
        "tract_added"
      ],
      "metadata": {
        "colab": {
          "base_uri": "https://localhost:8080/"
        },
        "id": "p2LiyOCYLDTP",
        "outputId": "d507fdc1-3181-49fb-aee1-ac5c1426f083"
      },
      "execution_count": null,
      "outputs": [
        {
          "output_type": "execute_result",
          "data": {
            "text/plain": [
              "{'Census Tract 17.03': 5.0,\n",
              " 'Census Tract 26.04': 5.0,\n",
              " 'Census Tract 27.05': 5.0,\n",
              " 'Census Tract 27.09': 5.0,\n",
              " 'Census Tract 32.04': 2.0,\n",
              " 'Census Tract 70.90': 5.0}"
            ]
          },
          "metadata": {},
          "execution_count": 131
        }
      ]
    },
    {
      "cell_type": "code",
      "source": [
        "# Create dictionary to hold tract;s with added and original cars\n",
        "tract_new = {}\n",
        "\n",
        "for i in model.R:\n",
        "\n",
        "  if (model.T[i] + model.x[i]()) > 0:\n",
        "\n",
        "    tract_new[i] = model.x[i]() + model.T[i]\n",
        "\n",
        "tract_new"
      ],
      "metadata": {
        "colab": {
          "base_uri": "https://localhost:8080/"
        },
        "id": "NGjEU_zAaRZ6",
        "outputId": "c4204eb7-f3c7-452d-e641-149c2d8f6e15"
      },
      "execution_count": null,
      "outputs": [
        {
          "output_type": "execute_result",
          "data": {
            "text/plain": [
              "{'Census Tract 11.02': 1.0,\n",
              " 'Census Tract 16.03': 1.0,\n",
              " 'Census Tract 17.03': 5.0,\n",
              " 'Census Tract 17.04': 5.0,\n",
              " 'Census Tract 17.05': 2.0,\n",
              " 'Census Tract 17.06': 3.0,\n",
              " 'Census Tract 19.01': 2.0,\n",
              " 'Census Tract 21.02': 3.0,\n",
              " 'Census Tract 24.04': 1.0,\n",
              " 'Census Tract 24.05': 1.0,\n",
              " 'Census Tract 26.03': 2.0,\n",
              " 'Census Tract 26.04': 5.0,\n",
              " 'Census Tract 27.05': 6.0,\n",
              " 'Census Tract 27.07': 1.0,\n",
              " 'Census Tract 27.09': 7.0,\n",
              " 'Census Tract 29.01': 1.0,\n",
              " 'Census Tract 31.02': 1.0,\n",
              " 'Census Tract 32.02': 1.0,\n",
              " 'Census Tract 32.04': 2.0,\n",
              " 'Census Tract 70.90': 5.0}"
            ]
          },
          "metadata": {},
          "execution_count": 132
        }
      ]
    },
    {
      "cell_type": "code",
      "source": [
        "# Pct HouseholdsNoVehAccess\n",
        "w = {}\n",
        "\n",
        "for i, id in enumerate(census_tract['TRACT_NAME']):\n",
        "\n",
        "  w[id] = census_tract['Pct_HouseholdsNoVehAccess'].iloc[i]"
      ],
      "metadata": {
        "id": "AtGPOW7BoWCs"
      },
      "execution_count": null,
      "outputs": []
    },
    {
      "cell_type": "code",
      "source": [
        "# Pct PopulationInPoverty\n",
        "w = {}\n",
        "\n",
        "for i, id in enumerate(census_tract['TRACT_NAME']):\n",
        "\n",
        "  w[id] = census_tract['Pct_PopulationInPoverty'].iloc[i]"
      ],
      "metadata": {
        "id": "Tmcrjax1pHsk"
      },
      "execution_count": null,
      "outputs": []
    },
    {
      "cell_type": "code",
      "source": [
        "# Pct Renters\n",
        "w = {}\n",
        "\n",
        "for i, id in enumerate(census_tract['TRACT_NAME']):\n",
        "\n",
        "  w[id] = census_tract['Pct_OccupiedUnitsWithRenters'].iloc[i]"
      ],
      "metadata": {
        "id": "0v1OVqdmpl-C"
      },
      "execution_count": null,
      "outputs": []
    },
    {
      "cell_type": "code",
      "source": [
        "# Pct cost burdened\n",
        "w = {}\n",
        "\n",
        "for i, id in enumerate(census_tract['TRACT_NAME']):\n",
        "\n",
        "  w[id] = census_tract['Pct_HouseholdsCostBurdened'].iloc[i]"
      ],
      "metadata": {
        "id": "qqFe0CVzoUkj"
      },
      "execution_count": null,
      "outputs": []
    }
  ]
}